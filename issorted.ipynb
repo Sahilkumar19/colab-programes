{
  "nbformat": 4,
  "nbformat_minor": 0,
  "metadata": {
    "colab": {
      "provenance": [],
      "authorship_tag": "ABX9TyMRhc4GpxGLit3C51/9p7w9",
      "include_colab_link": true
    },
    "kernelspec": {
      "name": "python3",
      "display_name": "Python 3"
    },
    "language_info": {
      "name": "python"
    }
  },
  "cells": [
    {
      "cell_type": "markdown",
      "metadata": {
        "id": "view-in-github",
        "colab_type": "text"
      },
      "source": [
        "<a href=\"https://colab.research.google.com/github/narayan-jat/colab-programes/blob/main/issorted.ipynb\" target=\"_parent\"><img src=\"https://colab.research.google.com/assets/colab-badge.svg\" alt=\"Open In Colab\"/></a>"
      ]
    },
    {
      "cell_type": "markdown",
      "source": [
        "Writing a ***recursive*** function that receives a list of integers and returns True if it is sorted (in non-decreasing order), and False otherwise. Count the number of recursive calls made by the function."
      ],
      "metadata": {
        "id": "PjOdMxt1Y-mv"
      }
    },
    {
      "cell_type": "code",
      "execution_count": 7,
      "metadata": {
        "id": "yF-2ZaGfYygJ"
      },
      "outputs": [],
      "source": [
        "# Function \n",
        "def isSortedAscending(lst) :\n",
        "\t'''\n",
        "\tReturns:True if list is in ascending order otherwise False.\n",
        "\n",
        "\tparameters lst: It is list to be checked for order.\n",
        "\tprecondition: It must be list of integers.\n",
        "\n",
        "\t>>> isSortedAscending([1, 4, 5, 6])\n",
        "\tTrue\n",
        "\t>>> isSortedAscending([1, 4, -9, 6])\n",
        "\tFalse\n",
        "\t>>> isSortedAscending([1, -1])\n",
        "\tFalse\n",
        "\t>>> isSortedAscending([1])\n",
        "\tTrue\n",
        "\t'''\n",
        "\tassert type(lst) == list, repr(lst) + 'It is not a list'\n",
        "\tassert len(lst) != 0, repr(lst) + 'It is blank list no sorting require at all'\n",
        "\tif len(lst) >= 2 :\n",
        "\t\telement1 = lst[0]\n",
        "\t\telement2 = lst[1]\n",
        "\t\tremaining_list = lst[1:] \n",
        "\t\treturn False if element2 < element1 else isSortedAscending(lst[1 : ])\n",
        "\telse:\n",
        "\t\treturn True\n",
        "\n",
        "# Testing against my testcases.\n",
        "if __name__ == '__main__' :\n",
        "    import doctest as d\n",
        "    d.testmod()\n",
        "\n",
        "     "
      ]
    }
  ]
}