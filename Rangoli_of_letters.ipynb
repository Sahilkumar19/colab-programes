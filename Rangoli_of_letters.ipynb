{
  "nbformat": 4,
  "nbformat_minor": 0,
  "metadata": {
    "colab": {
      "provenance": [],
      "authorship_tag": "ABX9TyN1WSlqpgaRgbvCC0M6DnTA",
      "include_colab_link": true
    },
    "kernelspec": {
      "name": "python3",
      "display_name": "Python 3"
    },
    "language_info": {
      "name": "python"
    }
  },
  "cells": [
    {
      "cell_type": "markdown",
      "metadata": {
        "id": "view-in-github",
        "colab_type": "text"
      },
      "source": [
        "<a href=\"https://colab.research.google.com/github/narayan-jat/colab-programes/blob/main/Rangoli_of_letters.ipynb\" target=\"_parent\"><img src=\"https://colab.research.google.com/assets/colab-badge.svg\" alt=\"Open In Colab\"/></a>"
      ]
    },
    {
      "cell_type": "markdown",
      "source": [
        "This will print *rangoli* of **letters**."
      ],
      "metadata": {
        "id": "aXQOjeoRBUln"
      }
    },
    {
      "cell_type": "code",
      "execution_count": null,
      "metadata": {
        "id": "d-a1po2a_dzZ"
      },
      "outputs": [],
      "source": [
        "# this is helper function for main function.\n",
        "def design(n):\n",
        "    sn = ''\n",
        "    for i in n:\n",
        "        sn += i\n",
        "        sn += '-'\n",
        "    return  sn[ :-1][ : 0: -1] + sn[ : -1] \n",
        "\n",
        "# Main function to print rangoli  \n",
        "def print_rangoli(size):\n",
        "    s = 'abcdefghijklmnopqrstuvwxyz'\n",
        "    # slicing required string and reverting it\n",
        "    sn = s[ :size][ : : -1]\n",
        "    for i in range(size - 1):\n",
        "        print(design(sn[i : : -1]).center(4 * size - 3, '-'))\n",
        "    print(design(sn[len(sn) -1 : : -1]).center(4 * size - 3, '-'))\n",
        "    for i in range(size - 2, -1, -1):\n",
        "        print(design(sn[i : : -1]).center(4 * size - 3, '-'))\n",
        "print_rangoli(5)"
      ]
    },
    {
      "cell_type": "code",
      "source": [],
      "metadata": {
        "id": "IA5G24wd_whT"
      },
      "execution_count": null,
      "outputs": []
    },
    {
      "cell_type": "markdown",
      "source": [],
      "metadata": {
        "id": "K6cL3DMi_zU1"
      }
    }
  ]
}