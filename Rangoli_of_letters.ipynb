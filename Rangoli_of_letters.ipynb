{
  "nbformat": 4,
  "nbformat_minor": 0,
  "metadata": {
    "colab": {
      "provenance": [],
      "authorship_tag": "ABX9TyNTZl9tiTNs4T91ccEt2lov",
      "include_colab_link": true
    },
    "kernelspec": {
      "name": "python3",
      "display_name": "Python 3"
    },
    "language_info": {
      "name": "python"
    }
  },
  "cells": [
    {
      "cell_type": "markdown",
      "metadata": {
        "id": "view-in-github",
        "colab_type": "text"
      },
      "source": [
        "<a href=\"https://colab.research.google.com/github/narayan-jat/colab-programes/blob/main/Rangoli_of_letters.ipynb\" target=\"_parent\"><img src=\"https://colab.research.google.com/assets/colab-badge.svg\" alt=\"Open In Colab\"/></a>"
      ]
    },
    {
      "cell_type": "markdown",
      "source": [
        "This will print *rangoli* of **letters**."
      ],
      "metadata": {
        "id": "aXQOjeoRBUln"
      }
    },
    {
      "cell_type": "code",
      "execution_count": 2,
      "metadata": {
        "colab": {
          "base_uri": "https://localhost:8080/"
        },
        "id": "d-a1po2a_dzZ",
        "outputId": "4230a8c6-2f80-4a60-933b-33e9e2ef8d92"
      },
      "outputs": [
        {
          "output_type": "stream",
          "name": "stdout",
          "text": [
            "--------------------------------------------------z--------------------------------------------------\n",
            "------------------------------------------------z-y-z------------------------------------------------\n",
            "----------------------------------------------z-y-x-y-z----------------------------------------------\n",
            "--------------------------------------------z-y-x-w-x-y-z--------------------------------------------\n",
            "------------------------------------------z-y-x-w-v-w-x-y-z------------------------------------------\n",
            "----------------------------------------z-y-x-w-v-u-v-w-x-y-z----------------------------------------\n",
            "--------------------------------------z-y-x-w-v-u-t-u-v-w-x-y-z--------------------------------------\n",
            "------------------------------------z-y-x-w-v-u-t-s-t-u-v-w-x-y-z------------------------------------\n",
            "----------------------------------z-y-x-w-v-u-t-s-r-s-t-u-v-w-x-y-z----------------------------------\n",
            "--------------------------------z-y-x-w-v-u-t-s-r-q-r-s-t-u-v-w-x-y-z--------------------------------\n",
            "------------------------------z-y-x-w-v-u-t-s-r-q-p-q-r-s-t-u-v-w-x-y-z------------------------------\n",
            "----------------------------z-y-x-w-v-u-t-s-r-q-p-o-p-q-r-s-t-u-v-w-x-y-z----------------------------\n",
            "--------------------------z-y-x-w-v-u-t-s-r-q-p-o-n-o-p-q-r-s-t-u-v-w-x-y-z--------------------------\n",
            "------------------------z-y-x-w-v-u-t-s-r-q-p-o-n-m-n-o-p-q-r-s-t-u-v-w-x-y-z------------------------\n",
            "----------------------z-y-x-w-v-u-t-s-r-q-p-o-n-m-l-m-n-o-p-q-r-s-t-u-v-w-x-y-z----------------------\n",
            "--------------------z-y-x-w-v-u-t-s-r-q-p-o-n-m-l-k-l-m-n-o-p-q-r-s-t-u-v-w-x-y-z--------------------\n",
            "------------------z-y-x-w-v-u-t-s-r-q-p-o-n-m-l-k-j-k-l-m-n-o-p-q-r-s-t-u-v-w-x-y-z------------------\n",
            "----------------z-y-x-w-v-u-t-s-r-q-p-o-n-m-l-k-j-i-j-k-l-m-n-o-p-q-r-s-t-u-v-w-x-y-z----------------\n",
            "--------------z-y-x-w-v-u-t-s-r-q-p-o-n-m-l-k-j-i-h-i-j-k-l-m-n-o-p-q-r-s-t-u-v-w-x-y-z--------------\n",
            "------------z-y-x-w-v-u-t-s-r-q-p-o-n-m-l-k-j-i-h-g-h-i-j-k-l-m-n-o-p-q-r-s-t-u-v-w-x-y-z------------\n",
            "----------z-y-x-w-v-u-t-s-r-q-p-o-n-m-l-k-j-i-h-g-f-g-h-i-j-k-l-m-n-o-p-q-r-s-t-u-v-w-x-y-z----------\n",
            "--------z-y-x-w-v-u-t-s-r-q-p-o-n-m-l-k-j-i-h-g-f-e-f-g-h-i-j-k-l-m-n-o-p-q-r-s-t-u-v-w-x-y-z--------\n",
            "------z-y-x-w-v-u-t-s-r-q-p-o-n-m-l-k-j-i-h-g-f-e-d-e-f-g-h-i-j-k-l-m-n-o-p-q-r-s-t-u-v-w-x-y-z------\n",
            "----z-y-x-w-v-u-t-s-r-q-p-o-n-m-l-k-j-i-h-g-f-e-d-c-d-e-f-g-h-i-j-k-l-m-n-o-p-q-r-s-t-u-v-w-x-y-z----\n",
            "--z-y-x-w-v-u-t-s-r-q-p-o-n-m-l-k-j-i-h-g-f-e-d-c-b-c-d-e-f-g-h-i-j-k-l-m-n-o-p-q-r-s-t-u-v-w-x-y-z--\n",
            "z-y-x-w-v-u-t-s-r-q-p-o-n-m-l-k-j-i-h-g-f-e-d-c-b-a-b-c-d-e-f-g-h-i-j-k-l-m-n-o-p-q-r-s-t-u-v-w-x-y-z\n",
            "--z-y-x-w-v-u-t-s-r-q-p-o-n-m-l-k-j-i-h-g-f-e-d-c-b-c-d-e-f-g-h-i-j-k-l-m-n-o-p-q-r-s-t-u-v-w-x-y-z--\n",
            "----z-y-x-w-v-u-t-s-r-q-p-o-n-m-l-k-j-i-h-g-f-e-d-c-d-e-f-g-h-i-j-k-l-m-n-o-p-q-r-s-t-u-v-w-x-y-z----\n",
            "------z-y-x-w-v-u-t-s-r-q-p-o-n-m-l-k-j-i-h-g-f-e-d-e-f-g-h-i-j-k-l-m-n-o-p-q-r-s-t-u-v-w-x-y-z------\n",
            "--------z-y-x-w-v-u-t-s-r-q-p-o-n-m-l-k-j-i-h-g-f-e-f-g-h-i-j-k-l-m-n-o-p-q-r-s-t-u-v-w-x-y-z--------\n",
            "----------z-y-x-w-v-u-t-s-r-q-p-o-n-m-l-k-j-i-h-g-f-g-h-i-j-k-l-m-n-o-p-q-r-s-t-u-v-w-x-y-z----------\n",
            "------------z-y-x-w-v-u-t-s-r-q-p-o-n-m-l-k-j-i-h-g-h-i-j-k-l-m-n-o-p-q-r-s-t-u-v-w-x-y-z------------\n",
            "--------------z-y-x-w-v-u-t-s-r-q-p-o-n-m-l-k-j-i-h-i-j-k-l-m-n-o-p-q-r-s-t-u-v-w-x-y-z--------------\n",
            "----------------z-y-x-w-v-u-t-s-r-q-p-o-n-m-l-k-j-i-j-k-l-m-n-o-p-q-r-s-t-u-v-w-x-y-z----------------\n",
            "------------------z-y-x-w-v-u-t-s-r-q-p-o-n-m-l-k-j-k-l-m-n-o-p-q-r-s-t-u-v-w-x-y-z------------------\n",
            "--------------------z-y-x-w-v-u-t-s-r-q-p-o-n-m-l-k-l-m-n-o-p-q-r-s-t-u-v-w-x-y-z--------------------\n",
            "----------------------z-y-x-w-v-u-t-s-r-q-p-o-n-m-l-m-n-o-p-q-r-s-t-u-v-w-x-y-z----------------------\n",
            "------------------------z-y-x-w-v-u-t-s-r-q-p-o-n-m-n-o-p-q-r-s-t-u-v-w-x-y-z------------------------\n",
            "--------------------------z-y-x-w-v-u-t-s-r-q-p-o-n-o-p-q-r-s-t-u-v-w-x-y-z--------------------------\n",
            "----------------------------z-y-x-w-v-u-t-s-r-q-p-o-p-q-r-s-t-u-v-w-x-y-z----------------------------\n",
            "------------------------------z-y-x-w-v-u-t-s-r-q-p-q-r-s-t-u-v-w-x-y-z------------------------------\n",
            "--------------------------------z-y-x-w-v-u-t-s-r-q-r-s-t-u-v-w-x-y-z--------------------------------\n",
            "----------------------------------z-y-x-w-v-u-t-s-r-s-t-u-v-w-x-y-z----------------------------------\n",
            "------------------------------------z-y-x-w-v-u-t-s-t-u-v-w-x-y-z------------------------------------\n",
            "--------------------------------------z-y-x-w-v-u-t-u-v-w-x-y-z--------------------------------------\n",
            "----------------------------------------z-y-x-w-v-u-v-w-x-y-z----------------------------------------\n",
            "------------------------------------------z-y-x-w-v-w-x-y-z------------------------------------------\n",
            "--------------------------------------------z-y-x-w-x-y-z--------------------------------------------\n",
            "----------------------------------------------z-y-x-y-z----------------------------------------------\n",
            "------------------------------------------------z-y-z------------------------------------------------\n",
            "--------------------------------------------------z--------------------------------------------------\n"
          ]
        }
      ],
      "source": [
        "# this is helper function for main function.\n",
        "def design(n):\n",
        "    sn = ''\n",
        "    for i in n:\n",
        "        sn += i\n",
        "        sn += '-'\n",
        "    return  sn[ :-1][ : 0: -1] + sn[ : -1] \n",
        "\n",
        "# Main function to print rangoli  \n",
        "def print_rangoli(size):\n",
        "    s = 'abcdefghijklmnopqrstuvwxyz'\n",
        "    # slicing required string and reverting it\n",
        "    sn = s[ :size][ : : -1]\n",
        "    for i in range(size - 1):\n",
        "        print(design(sn[i : : -1]).center(4 * size - 3, '-'))\n",
        "    print(design(sn[len(sn) -1 : : -1]).center(4 * size - 3, '-'))\n",
        "    for i in range(size - 2, -1, -1):\n",
        "        print(design(sn[i : : -1]).center(4 * size - 3, '-'))\n",
        "print_rangoli(26)"
      ]
    },
    {
      "cell_type": "code",
      "source": [],
      "metadata": {
        "id": "IA5G24wd_whT"
      },
      "execution_count": null,
      "outputs": []
    },
    {
      "cell_type": "markdown",
      "source": [],
      "metadata": {
        "id": "K6cL3DMi_zU1"
      }
    }
  ]
}